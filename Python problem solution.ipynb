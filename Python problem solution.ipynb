{
 "cells": [
  {
   "cell_type": "markdown",
   "id": "b7c21153",
   "metadata": {},
   "source": [
    "# 1.\tWrite a program that takes a sentence as input and prints the reverse of each word while keeping the word order intact. For example, if input is \"Hello world\", the output should be \"olleH dlrow\"."
   ]
  },
  {
   "cell_type": "code",
   "execution_count": 7,
   "id": "d7859d90",
   "metadata": {},
   "outputs": [
    {
     "name": "stdout",
     "output_type": "stream",
     "text": [
      "Input a sentencehello world\n",
      "olleh dlrow \n"
     ]
    }
   ],
   "source": [
    "x=input(\"Input a sentence: \")\n",
    "x=x.split(sep=' ')\n",
    "list=[]\n",
    "for i in x:\n",
    "    list.append(i[::-1])\n",
    "    \n",
    "m=''\n",
    "for i in list:\n",
    "    m=m+i+' '\n",
    "    \n",
    "print(m)\n",
    "    "
   ]
  },
  {
   "cell_type": "code",
   "execution_count": null,
   "id": "ec6fbecb",
   "metadata": {},
   "outputs": [],
   "source": []
  },
  {
   "cell_type": "markdown",
   "id": "08186af6",
   "metadata": {},
   "source": [
    "# 2.\tCreate a program that generates a random password of a given length (user input), combining lowercase letters, uppercase letters, digits, and special characters."
   ]
  },
  {
   "cell_type": "code",
   "execution_count": 14,
   "id": "a23955d2",
   "metadata": {},
   "outputs": [],
   "source": []
  },
  {
   "cell_type": "code",
   "execution_count": 6,
   "id": "411f7bdb",
   "metadata": {},
   "outputs": [
    {
     "name": "stdout",
     "output_type": "stream",
     "text": [
      "25\n"
     ]
    }
   ],
   "source": [
    "import random\n",
    "from random import randrange\n",
    "print(randrange(69))"
   ]
  },
  {
   "cell_type": "code",
   "execution_count": 35,
   "id": "bf5ade59",
   "metadata": {},
   "outputs": [
    {
     "name": "stdout",
     "output_type": "stream",
     "text": [
      "Enter the length of the password=5\n",
      "jwLvz\n"
     ]
    }
   ],
   "source": [
    "x='abcdefghijklmnopqrstuvwxyz1234567890!@#$%&*ABCDEFGHIJKLMNOPQRSTUVWXYZ'\n",
    "n=int(input(\"Enter the length of the password=\"))\n",
    "password=''\n",
    "i=0\n",
    "while i<n:\n",
    "    password=password+x[randrange(69)]\n",
    "    i=i+1\n",
    "    \n",
    "print(password)"
   ]
  },
  {
   "cell_type": "code",
   "execution_count": 34,
   "id": "9bafc20b",
   "metadata": {},
   "outputs": [
    {
     "data": {
      "text/plain": [
       "69"
      ]
     },
     "execution_count": 34,
     "metadata": {},
     "output_type": "execute_result"
    }
   ],
   "source": [
    "len(x)"
   ]
  },
  {
   "cell_type": "code",
   "execution_count": null,
   "id": "1e1c1a70",
   "metadata": {},
   "outputs": [],
   "source": []
  },
  {
   "cell_type": "markdown",
   "id": "7ad3efb0",
   "metadata": {},
   "source": [
    "# 3.\tDevelop a program that takes a list of numbers as input and finds the second smallest and second largest numbers without sorting the list."
   ]
  },
  {
   "cell_type": "code",
   "execution_count": 53,
   "id": "7029b45d",
   "metadata": {},
   "outputs": [],
   "source": []
  },
  {
   "cell_type": "code",
   "execution_count": 61,
   "id": "76bc450b",
   "metadata": {},
   "outputs": [
    {
     "name": "stdout",
     "output_type": "stream",
     "text": [
      "69\n",
      "16\n"
     ]
    }
   ],
   "source": [
    "list=[12,54,69,45,32,78,16,23]\n",
    "list1=list.copy()\n",
    "list2=list.copy()\n",
    "list1.remove(max(list))\n",
    "print(max(list1))\n",
    "list2.remove(min(list))          \n",
    "print(min(list2))\n",
    "            "
   ]
  },
  {
   "cell_type": "code",
   "execution_count": 64,
   "id": "809cafd3",
   "metadata": {},
   "outputs": [
    {
     "data": {
      "text/plain": [
       "[12, 16, 23, 32, 45, 54, 69, 78]"
      ]
     },
     "execution_count": 64,
     "metadata": {},
     "output_type": "execute_result"
    }
   ],
   "source": [
    "list.sort()\n",
    "list"
   ]
  },
  {
   "cell_type": "markdown",
   "id": "a57f6bf7",
   "metadata": {},
   "source": [
    "# 4.\tBuild a program that acts as a basic calculator. It takes two numbers and an operator (+, -, *, /) as input and performs the corresponding operation."
   ]
  },
  {
   "cell_type": "code",
   "execution_count": 72,
   "id": "4b26deb0",
   "metadata": {},
   "outputs": [
    {
     "name": "stdout",
     "output_type": "stream",
     "text": [
      "Enter a number: 45\n",
      "Enter another number: 5\n",
      "Enter the operator which you want to execute(+, -, *, /)/\n",
      "45.0 / 5.0 = 9.0\n"
     ]
    }
   ],
   "source": [
    "num1=float(input(\"Enter a number: \"))\n",
    "num2=float(input(\"Enter another number: \"))\n",
    "ope=(input(\"Enter the operator which you want to execute(+, -, *, /)\"))\n",
    "\n",
    "if ope==\"+\":\n",
    "    print(num1,ope,num2,'=',num1+num2)\n",
    "    \n",
    "elif ope==\"-\":\n",
    "    print(num1,ope,num2,'=',num1-num2)\n",
    "    \n",
    "elif ope==\"*\":\n",
    "    print(num1,ope,num2,'=',num1*num2)\n",
    "    \n",
    "elif ope==\"/\":\n",
    "    print(num1,ope,num2,'=',num1/num2)\n",
    "    \n",
    "else:\n",
    "    print(\"May be you enter somthing wrong. pls run again\")"
   ]
  },
  {
   "cell_type": "markdown",
   "id": "2c6b3786",
   "metadata": {},
   "source": [
    "# 5.\tWrite a program that prompts the user to enter their age and then tells them whether they're a minor, adult, or senior citizen according to predefined age ranges.\n",
    "\n"
   ]
  },
  {
   "cell_type": "code",
   "execution_count": 75,
   "id": "05f8d098",
   "metadata": {},
   "outputs": [
    {
     "name": "stdout",
     "output_type": "stream",
     "text": [
      "Enter your Age: 123\n",
      "Duniya se kob ja rahe ho\n"
     ]
    }
   ],
   "source": [
    "n=int(input(\"Enter your Age: \"))\n",
    "if n<=0:\n",
    "    print(\"write correct age\")\n",
    "\n",
    "elif n>0 and n<18:\n",
    "    print(\"You are a minor\")\n",
    "    \n",
    "elif n>=18 and n<60:\n",
    "    print(\"You are a adult\")\n",
    "    \n",
    "elif n>=60 and n<120:\n",
    "    print(\"You are a Senior citizen\")\n",
    "        \n",
    "else:\n",
    "    print(\"Duniya se kob ja rahe ho\")\n",
    "      \n",
    "    "
   ]
  },
  {
   "cell_type": "code",
   "execution_count": null,
   "id": "b109923f",
   "metadata": {},
   "outputs": [],
   "source": []
  },
  {
   "cell_type": "markdown",
   "id": "5b601a7f",
   "metadata": {},
   "source": [
    "# 6.\tCreate a program that simulates a simple ATM. It should allow the user to check balance, deposit, and withdraw money while ensuring they cannot withdraw more than their balance."
   ]
  },
  {
   "cell_type": "code",
   "execution_count": 36,
   "id": "8056aff7",
   "metadata": {},
   "outputs": [
    {
     "name": "stdout",
     "output_type": "stream",
     "text": [
      "balance: 1, deposit: 2 , withdraw: 3, exist: 4 \n",
      "1\n",
      "hi koushik your balance is:  0\n",
      "balance: 1, deposit: 2 , withdraw: 3, exist: 4 \n",
      "2\n",
      "koushik pls enter the deposite amount: 1000000\n",
      "1000000 amount deposited succesfully\n",
      "\n",
      "\n",
      "now your net balance is:  1000000\n",
      "balance: 1, deposit: 2 , withdraw: 3, exist: 4 \n",
      "3\n",
      "koushik pls enter the withrawl amount: 1000000\n",
      "1000000 amount withrawl succesfully\n",
      "\n",
      "\n",
      "now your net balance is:  0\n",
      "balance: 1, deposit: 2 , withdraw: 3, exist: 4 \n",
      "2\n",
      "koushik pls enter the deposite amount: 3\n",
      "3 amount deposited succesfully\n",
      "\n",
      "\n",
      "now your net balance is:  3\n",
      "balance: 1, deposit: 2 , withdraw: 3, exist: 4 \n",
      "3\n",
      "koushik pls enter the withrawl amount: 5\n",
      "5 amount withrawl succesfully\n",
      "\n",
      "\n",
      "now your net balance is:  -2\n",
      "balance: 1, deposit: 2 , withdraw: 3, exist: 4 \n",
      "4\n",
      "Thank you koshik for visiting us\n"
     ]
    }
   ],
   "source": [
    "name='koushik'\n",
    "balance=0\n",
    "\n",
    "while True:\n",
    "    x=input(\"balance: 1, deposit: 2 , withdraw: 3, exist: 4 \\n\")\n",
    "    \n",
    "    if x=='1':\n",
    "        print('hi koushik your balance is: ', balance)\n",
    "        \n",
    "    elif x=='2':\n",
    "        deposite=int(input(\"koushik pls enter the deposite amount: \"))\n",
    "        balance=balance+deposite\n",
    "        print(deposite, \"amount deposited succesfully\")\n",
    "        print(\"\\n\")\n",
    "        print(\"now your net balance is: \", balance)\n",
    "        \n",
    "    elif x=='3':\n",
    "        deposite=int(input(\"koushik pls enter the withrawl amount: \"))\n",
    "        balance=balance-deposite\n",
    "        print(deposite, \"amount withrawl succesfully\")\n",
    "        print(\"\\n\")\n",
    "        print(\"now your net balance is: \", balance)\n",
    "        \n",
    "    elif x==\"4\":\n",
    "        print(\"Thank you koshik for visiting us\")\n",
    "        break\n",
    "        \n",
    "    else:\n",
    "        print('Invalied input')\n",
    "        print(\"try again\")\n",
    "        break"
   ]
  },
  {
   "cell_type": "markdown",
   "id": "05eab868",
   "metadata": {},
   "source": [
    "# 7.Develop a program that generates the Fibonacci sequence up to a specified number of terms, given by the user."
   ]
  },
  {
   "cell_type": "code",
   "execution_count": 31,
   "id": "988b0e50",
   "metadata": {},
   "outputs": [
    {
     "name": "stdout",
     "output_type": "stream",
     "text": [
      "Enter a specific number: 5\n",
      "1\n",
      "2\n",
      "3\n",
      "5\n",
      "8\n"
     ]
    }
   ],
   "source": [
    "n=int(input(\"Enter a specific number: \"))\n",
    "a=0\n",
    "b=1\n",
    "for i in range(n):\n",
    "    sum=a+b\n",
    "    print(sum)\n",
    "    a=b\n",
    "    b=sum\n",
    "    "
   ]
  },
  {
   "cell_type": "code",
   "execution_count": null,
   "id": "441b89cb",
   "metadata": {},
   "outputs": [],
   "source": []
  },
  {
   "cell_type": "markdown",
   "id": "0f6c1fda",
   "metadata": {},
   "source": [
    "# 8.\tWrite a program that takes a string as input and prints all the permutations of its characters using a loop, without using any built-in permutation functions."
   ]
  },
  {
   "cell_type": "code",
   "execution_count": null,
   "id": "c58f4142",
   "metadata": {},
   "outputs": [],
   "source": [
    "x=input(\"Enter a string: \")\n",
    "\n",
    "for i in range(len(x)):\n",
    "    "
   ]
  },
  {
   "cell_type": "code",
   "execution_count": null,
   "id": "ff3b1b7a",
   "metadata": {},
   "outputs": [],
   "source": []
  },
  {
   "cell_type": "code",
   "execution_count": null,
   "id": "6e00c095",
   "metadata": {},
   "outputs": [],
   "source": []
  },
  {
   "cell_type": "code",
   "execution_count": null,
   "id": "7bd235c1",
   "metadata": {},
   "outputs": [],
   "source": []
  },
  {
   "cell_type": "code",
   "execution_count": null,
   "id": "b2dbbd87",
   "metadata": {},
   "outputs": [],
   "source": []
  },
  {
   "cell_type": "code",
   "execution_count": null,
   "id": "c0bbe020",
   "metadata": {},
   "outputs": [],
   "source": []
  },
  {
   "cell_type": "code",
   "execution_count": null,
   "id": "85011f38",
   "metadata": {},
   "outputs": [],
   "source": []
  },
  {
   "cell_type": "markdown",
   "id": "ec502f44",
   "metadata": {},
   "source": [
    "# 9.\tImplement a guessing game where the program generates a random number and the user has to guess it. Provide hints such as \"too high\" or \"too low\" to guide their guesses"
   ]
  },
  {
   "cell_type": "code",
   "execution_count": 30,
   "id": "21d006b8",
   "metadata": {},
   "outputs": [
    {
     "name": "stdout",
     "output_type": "stream",
     "text": [
      "Guess the number7\n",
      "You are too low\n",
      "Guess the number8\n",
      "You are guessing right 8\n"
     ]
    }
   ],
   "source": [
    "n=randrange(1,10)\n",
    "\n",
    "while True:\n",
    "    x=int(input(\"Guess the number\"))\n",
    "    \n",
    "    if x==n:\n",
    "        print(\"You are guessing right\",n)\n",
    "        break\n",
    "        \n",
    "    elif x-n>0:\n",
    "        print(\"You are too high\")\n",
    "        \n",
    "    elif x-n<0:\n",
    "        print(\"You are too low\")"
   ]
  },
  {
   "cell_type": "markdown",
   "id": "6b94e098",
   "metadata": {},
   "source": [
    "# 10.\tBuild a program that generates a pattern based on user input, where the user specifies the number of rows. For example, if the user enters 5, the output should be:"
   ]
  },
  {
   "cell_type": "code",
   "execution_count": 80,
   "id": "2a1a0a2e",
   "metadata": {},
   "outputs": [
    {
     "name": "stdout",
     "output_type": "stream",
     "text": [
      "Enter a number5\n",
      "\n",
      "*\n",
      "**\n",
      "***\n",
      "****\n",
      "*****\n"
     ]
    }
   ],
   "source": [
    "num=int(input(\"Enter a number\"))\n",
    "\n",
    "for i in range(num+1):\n",
    "    print(\"*\"*i)"
   ]
  },
  {
   "cell_type": "code",
   "execution_count": null,
   "id": "2eb0efa6",
   "metadata": {},
   "outputs": [],
   "source": []
  },
  {
   "cell_type": "code",
   "execution_count": null,
   "id": "c817380b",
   "metadata": {},
   "outputs": [],
   "source": []
  },
  {
   "cell_type": "code",
   "execution_count": null,
   "id": "cf77ea94",
   "metadata": {},
   "outputs": [],
   "source": []
  },
  {
   "cell_type": "code",
   "execution_count": null,
   "id": "7476a14a",
   "metadata": {},
   "outputs": [],
   "source": []
  },
  {
   "cell_type": "code",
   "execution_count": null,
   "id": "71107bac",
   "metadata": {},
   "outputs": [],
   "source": []
  },
  {
   "cell_type": "code",
   "execution_count": null,
   "id": "b2457001",
   "metadata": {},
   "outputs": [],
   "source": []
  },
  {
   "cell_type": "code",
   "execution_count": null,
   "id": "de856f79",
   "metadata": {},
   "outputs": [],
   "source": []
  }
 ],
 "metadata": {
  "kernelspec": {
   "display_name": "Python 3 (ipykernel)",
   "language": "python",
   "name": "python3"
  },
  "language_info": {
   "codemirror_mode": {
    "name": "ipython",
    "version": 3
   },
   "file_extension": ".py",
   "mimetype": "text/x-python",
   "name": "python",
   "nbconvert_exporter": "python",
   "pygments_lexer": "ipython3",
   "version": "3.9.13"
  }
 },
 "nbformat": 4,
 "nbformat_minor": 5
}
