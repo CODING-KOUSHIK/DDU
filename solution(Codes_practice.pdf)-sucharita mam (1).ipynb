{
 "cells": [
  {
   "cell_type": "markdown",
   "id": "c1db49be",
   "metadata": {},
   "source": [
    "# 1. Sum of List: \n",
    " Write a Python function to calculate the sum of all elements in a given list. "
   ]
  },
  {
   "cell_type": "code",
   "execution_count": 2,
   "id": "c6b8485c",
   "metadata": {},
   "outputs": [
    {
     "data": {
      "text/plain": [
       "99"
      ]
     },
     "execution_count": 2,
     "metadata": {},
     "output_type": "execute_result"
    }
   ],
   "source": [
    "list=[10,12,23,45,4,5]\n",
    "sum(list)"
   ]
  },
  {
   "cell_type": "code",
   "execution_count": null,
   "id": "d552558e",
   "metadata": {},
   "outputs": [],
   "source": []
  },
  {
   "cell_type": "markdown",
   "id": "2f8fc2d8",
   "metadata": {},
   "source": [
    "# 2. List Manipulation: \n",
    " Create a function that takes a list and returns a new list with only the even elements. "
   ]
  },
  {
   "cell_type": "code",
   "execution_count": 5,
   "id": "20522adb",
   "metadata": {},
   "outputs": [
    {
     "data": {
      "text/plain": [
       "[10, 12, 4]"
      ]
     },
     "execution_count": 5,
     "metadata": {},
     "output_type": "execute_result"
    }
   ],
   "source": [
    "list=[10,12,23,45,4,5]\n",
    "new_list=[]\n",
    "\n",
    "for i in list:\n",
    "    if i%2==0:\n",
    "        new_list.append(i)\n",
    "        \n",
    "new_list"
   ]
  },
  {
   "cell_type": "code",
   "execution_count": null,
   "id": "e51df352",
   "metadata": {},
   "outputs": [],
   "source": []
  },
  {
   "cell_type": "markdown",
   "id": "c0513db7",
   "metadata": {},
   "source": [
    "# 3. List Reversal: \n",
    " Write a program to reverse a list in-place (without using built-in functions). "
   ]
  },
  {
   "cell_type": "code",
   "execution_count": 10,
   "id": "fa9d8e78",
   "metadata": {},
   "outputs": [
    {
     "data": {
      "text/plain": [
       "[5, 4, 45, 23, 12, 10]"
      ]
     },
     "execution_count": 10,
     "metadata": {},
     "output_type": "execute_result"
    }
   ],
   "source": [
    "list=[10,12,23,45,4,5]\n",
    "new_list=[]\n",
    "\n",
    "for i in range(len(list)-1,-1,-1):\n",
    "    new_list.append(list[i])\n",
    "    \n",
    "new_list"
   ]
  },
  {
   "cell_type": "code",
   "execution_count": null,
   "id": "c2d64ee8",
   "metadata": {},
   "outputs": [],
   "source": []
  },
  {
   "cell_type": "markdown",
   "id": "adc556c2",
   "metadata": {},
   "source": [
    "# 4. List Comprehension: \n",
    " Use list comprehension to create a new list that contains squares of all elements in the given \n",
    "list. "
   ]
  },
  {
   "cell_type": "code",
   "execution_count": 38,
   "id": "b427e741",
   "metadata": {},
   "outputs": [],
   "source": [
    "list=[10,12,23,45,4,5]\n",
    "new_list= [value**2 for value in list]"
   ]
  },
  {
   "cell_type": "code",
   "execution_count": 39,
   "id": "e2c3986d",
   "metadata": {},
   "outputs": [
    {
     "data": {
      "text/plain": [
       "[100, 144, 529, 2025, 16, 25]"
      ]
     },
     "execution_count": 39,
     "metadata": {},
     "output_type": "execute_result"
    }
   ],
   "source": [
    "new_list"
   ]
  },
  {
   "cell_type": "code",
   "execution_count": null,
   "id": "523a7628",
   "metadata": {},
   "outputs": [],
   "source": []
  },
  {
   "cell_type": "code",
   "execution_count": null,
   "id": "22cc68ec",
   "metadata": {},
   "outputs": [],
   "source": []
  },
  {
   "cell_type": "markdown",
   "id": "937d129a",
   "metadata": {},
   "source": [
    "# 15. List Uniqueness: \n",
    " Write a function to remove duplicate elements from a list. "
   ]
  },
  {
   "cell_type": "code",
   "execution_count": 49,
   "id": "87127f1d",
   "metadata": {},
   "outputs": [],
   "source": [
    "def unique_element(l):\n",
    "    new_list=[]\n",
    "    for i in l:\n",
    "        if i not in new_list:\n",
    "            new_list.append(i)\n",
    "            \n",
    "    print(new_list)"
   ]
  },
  {
   "cell_type": "code",
   "execution_count": 50,
   "id": "b30e5cb1",
   "metadata": {},
   "outputs": [
    {
     "name": "stdout",
     "output_type": "stream",
     "text": [
      "[1, 2, 5, 4, 6, 3, 8]\n"
     ]
    }
   ],
   "source": [
    "list=[1,1,2,5,4,2,5,6,3,2,5,8,4,5,1,2,3,5,4,1,2]\n",
    "unique_element(list)"
   ]
  },
  {
   "cell_type": "code",
   "execution_count": null,
   "id": "88434f80",
   "metadata": {},
   "outputs": [],
   "source": []
  },
  {
   "cell_type": "markdown",
   "id": "82c06c6c",
   "metadata": {},
   "source": [
    "# 16. List Slicing: \n",
    " Extract even-indexed elements from a list using list slicing. "
   ]
  },
  {
   "cell_type": "code",
   "execution_count": 41,
   "id": "feb7f308",
   "metadata": {},
   "outputs": [
    {
     "data": {
      "text/plain": [
       "[1, 3, 5, 7, 9, 11, 13]"
      ]
     },
     "execution_count": 41,
     "metadata": {},
     "output_type": "execute_result"
    }
   ],
   "source": [
    "list=[1,2,3,4,5,6,7,8,9,10,11,12,13,14]\n",
    "list[::2]"
   ]
  },
  {
   "cell_type": "code",
   "execution_count": null,
   "id": "d6eb9945",
   "metadata": {},
   "outputs": [],
   "source": []
  },
  {
   "cell_type": "code",
   "execution_count": null,
   "id": "cabbcfac",
   "metadata": {},
   "outputs": [],
   "source": []
  },
  {
   "cell_type": "markdown",
   "id": "7b15b94b",
   "metadata": {},
   "source": [
    "# 17. List Sorting: \n",
    " Sort a list of strings based on the length of each string. "
   ]
  },
  {
   "cell_type": "code",
   "execution_count": 57,
   "id": "62a08281",
   "metadata": {},
   "outputs": [
    {
     "data": {
      "text/plain": [
       "['my', 'is', 'name', 'biswas', 'koushik']"
      ]
     },
     "execution_count": 57,
     "metadata": {},
     "output_type": "execute_result"
    }
   ],
   "source": [
    "list1=[\"my\", \"name\", \"is\", \"koushik\",\"biswas\"]\n",
    "new_list=[]\n",
    "\n",
    "for i in range(100):\n",
    "    for j in list1:\n",
    "        if len(j)==i:\n",
    "            new_list.append(j)\n",
    "            if len(new_list)==len(list1):\n",
    "                break\n",
    "new_list"
   ]
  },
  {
   "cell_type": "code",
   "execution_count": null,
   "id": "001bb53d",
   "metadata": {},
   "outputs": [],
   "source": []
  },
  {
   "cell_type": "markdown",
   "id": "f0a094a6",
   "metadata": {},
   "source": [
    "# 18. Matrix Multiplication: \n",
    " Implement matrix multiplication using nested loops. "
   ]
  },
  {
   "cell_type": "code",
   "execution_count": 58,
   "id": "6d31d2c0",
   "metadata": {},
   "outputs": [],
   "source": [
    "# Example 3x3 matrix\n",
    "A = [\n",
    "    [1, 2, 3],\n",
    "    [4, 5, 6],\n",
    "    [7, 8, 9]\n",
    "]\n",
    "\n",
    "# Example 3x3 matrix\n",
    "B = [\n",
    "    [1, 2, 3],\n",
    "    [4, 5, 6],\n",
    "    [7, 8, 9]\n",
    "]\n",
    "c=[[],[],[]]"
   ]
  },
  {
   "cell_type": "code",
   "execution_count": null,
   "id": "1fe19978",
   "metadata": {},
   "outputs": [],
   "source": [
    "for i in range(0,3):\n",
    "    for j in range(0,3):\n",
    "        c[i][j]="
   ]
  },
  {
   "cell_type": "code",
   "execution_count": 64,
   "id": "e1f8654a",
   "metadata": {},
   "outputs": [
    {
     "data": {
      "text/plain": [
       "[]"
      ]
     },
     "execution_count": 64,
     "metadata": {},
     "output_type": "execute_result"
    }
   ],
   "source": [
    "c=[[],[],[]]\n"
   ]
  },
  {
   "cell_type": "code",
   "execution_count": null,
   "id": "d6cb1f84",
   "metadata": {},
   "outputs": [],
   "source": []
  },
  {
   "cell_type": "code",
   "execution_count": null,
   "id": "24c0e61b",
   "metadata": {},
   "outputs": [],
   "source": []
  },
  {
   "cell_type": "code",
   "execution_count": null,
   "id": "cdee4a13",
   "metadata": {},
   "outputs": [],
   "source": []
  },
  {
   "cell_type": "code",
   "execution_count": null,
   "id": "a3d52474",
   "metadata": {},
   "outputs": [],
   "source": []
  },
  {
   "cell_type": "code",
   "execution_count": null,
   "id": "62dc1df3",
   "metadata": {},
   "outputs": [],
   "source": []
  },
  {
   "cell_type": "markdown",
   "id": "feb2974e",
   "metadata": {},
   "source": [
    "# 19. List Frequency: \n",
    " Write a function that returns the frequency of each element in a list. "
   ]
  },
  {
   "cell_type": "code",
   "execution_count": 35,
   "id": "c33dc2ff",
   "metadata": {},
   "outputs": [],
   "source": [
    "def freq_of_element(list1):\n",
    "    dict={}\n",
    "    set1 = {item for item in list1}\n",
    "    list2=[elem for elem in set1]\n",
    "    for i in list2:\n",
    "        n=0\n",
    "        for j in list1:\n",
    "            if i==j:\n",
    "                n+=1\n",
    "        dict[i]=n\n",
    "        \n",
    "    print(dict)\n",
    "            \n",
    "    "
   ]
  },
  {
   "cell_type": "code",
   "execution_count": 36,
   "id": "023c037e",
   "metadata": {},
   "outputs": [
    {
     "name": "stdout",
     "output_type": "stream",
     "text": [
      "{1: 4, 2: 5, 3: 2, 4: 3, 5: 5, 6: 1, 8: 1}\n"
     ]
    }
   ],
   "source": [
    "list=[1,1,2,5,4,2,5,6,3,2,5,8,4,5,1,2,3,5,4,1,2]\n",
    "freq_of_element(list)"
   ]
  },
  {
   "cell_type": "code",
   "execution_count": null,
   "id": "66d6d216",
   "metadata": {},
   "outputs": [],
   "source": []
  },
  {
   "cell_type": "markdown",
   "id": "4791e222",
   "metadata": {},
   "source": [
    "# 20. List Median: \n",
    " Calculate the median of a list of numbers."
   ]
  },
  {
   "cell_type": "code",
   "execution_count": 15,
   "id": "28f6a9c4",
   "metadata": {},
   "outputs": [],
   "source": [
    "import numpy as np"
   ]
  },
  {
   "cell_type": "code",
   "execution_count": 16,
   "id": "3b0ac385",
   "metadata": {},
   "outputs": [
    {
     "data": {
      "text/plain": [
       "56.0"
      ]
     },
     "execution_count": 16,
     "metadata": {},
     "output_type": "execute_result"
    }
   ],
   "source": [
    "list1=[45,56,12,78,56,23,45,69,85]\n",
    "np.median(list1)"
   ]
  },
  {
   "cell_type": "code",
   "execution_count": null,
   "id": "9feb2421",
   "metadata": {},
   "outputs": [],
   "source": []
  },
  {
   "cell_type": "code",
   "execution_count": null,
   "id": "0e6d2ace",
   "metadata": {},
   "outputs": [],
   "source": []
  },
  {
   "cell_type": "code",
   "execution_count": null,
   "id": "c163ba3d",
   "metadata": {},
   "outputs": [],
   "source": []
  },
  {
   "cell_type": "code",
   "execution_count": null,
   "id": "e3877d3b",
   "metadata": {},
   "outputs": [],
   "source": []
  },
  {
   "cell_type": "code",
   "execution_count": null,
   "id": "e0e26868",
   "metadata": {},
   "outputs": [],
   "source": []
  },
  {
   "cell_type": "code",
   "execution_count": null,
   "id": "984689ae",
   "metadata": {},
   "outputs": [],
   "source": []
  },
  {
   "cell_type": "code",
   "execution_count": null,
   "id": "271fa2ba",
   "metadata": {},
   "outputs": [],
   "source": []
  },
  {
   "cell_type": "code",
   "execution_count": null,
   "id": "7ace2338",
   "metadata": {},
   "outputs": [],
   "source": []
  },
  {
   "cell_type": "code",
   "execution_count": null,
   "id": "f68cbd3e",
   "metadata": {},
   "outputs": [],
   "source": []
  },
  {
   "cell_type": "code",
   "execution_count": null,
   "id": "d8d79838",
   "metadata": {},
   "outputs": [],
   "source": []
  },
  {
   "cell_type": "code",
   "execution_count": null,
   "id": "497ae09d",
   "metadata": {},
   "outputs": [],
   "source": []
  },
  {
   "cell_type": "code",
   "execution_count": null,
   "id": "fe1be917",
   "metadata": {},
   "outputs": [],
   "source": []
  },
  {
   "cell_type": "code",
   "execution_count": null,
   "id": "a1a7564d",
   "metadata": {},
   "outputs": [],
   "source": []
  }
 ],
 "metadata": {
  "kernelspec": {
   "display_name": "Python 3",
   "language": "python",
   "name": "python3"
  },
  "language_info": {
   "codemirror_mode": {
    "name": "ipython",
    "version": 3
   },
   "file_extension": ".py",
   "mimetype": "text/x-python",
   "name": "python",
   "nbconvert_exporter": "python",
   "pygments_lexer": "ipython3",
   "version": "3.8.8"
  }
 },
 "nbformat": 4,
 "nbformat_minor": 5
}
